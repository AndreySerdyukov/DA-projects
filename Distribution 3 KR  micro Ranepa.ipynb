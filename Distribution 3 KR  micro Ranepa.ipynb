{
 "cells": [
  {
   "cell_type": "code",
   "execution_count": 1,
   "id": "3bd14c0c",
   "metadata": {},
   "outputs": [],
   "source": [
    "import pandas as pd\n",
    "import numpy as np\n",
    "import matplotlib.pyplot as plt\n",
    "plt.style.use('ggplot')"
   ]
  },
  {
   "cell_type": "markdown",
   "id": "cd128432",
   "metadata": {},
   "source": [
    "## Читаем эксель таблицу с оценками за микроэкономику 2 курс"
   ]
  },
  {
   "cell_type": "code",
   "execution_count": 2,
   "id": "1961cb14",
   "metadata": {},
   "outputs": [
    {
     "data": {
      "text/html": [
       "<div>\n",
       "<style scoped>\n",
       "    .dataframe tbody tr th:only-of-type {\n",
       "        vertical-align: middle;\n",
       "    }\n",
       "\n",
       "    .dataframe tbody tr th {\n",
       "        vertical-align: top;\n",
       "    }\n",
       "\n",
       "    .dataframe thead th {\n",
       "        text-align: right;\n",
       "    }\n",
       "</style>\n",
       "<table border=\"1\" class=\"dataframe\">\n",
       "  <thead>\n",
       "    <tr style=\"text-align: right;\">\n",
       "      <th></th>\n",
       "      <th>Unnamed: 0</th>\n",
       "      <th>кр1</th>\n",
       "      <th>доп.балл</th>\n",
       "      <th>кр1 итог</th>\n",
       "      <th>кр1 в 10-балльной</th>\n",
       "      <th>к/р.2</th>\n",
       "      <th>к.р. в 10-балльной</th>\n",
       "      <th>итог</th>\n",
       "      <th>экзамен</th>\n",
       "      <th>итог-итог</th>\n",
       "      <th>кр апрель</th>\n",
       "      <th>кр 3 в 10-балльной</th>\n",
       "      <th>кр май</th>\n",
       "      <th>кр4 в 10-балльной</th>\n",
       "      <th>доклады</th>\n",
       "      <th>ИТОГ</th>\n",
       "      <th>экзамен.1</th>\n",
       "    </tr>\n",
       "  </thead>\n",
       "  <tbody>\n",
       "    <tr>\n",
       "      <th>0</th>\n",
       "      <td>Абаджян Наира</td>\n",
       "      <td>осв</td>\n",
       "      <td>NaN</td>\n",
       "      <td>NaN</td>\n",
       "      <td>0.0</td>\n",
       "      <td>64</td>\n",
       "      <td>7.0</td>\n",
       "      <td>7.0</td>\n",
       "      <td>согласна с оценкой</td>\n",
       "      <td>7.0</td>\n",
       "      <td>28</td>\n",
       "      <td>5</td>\n",
       "      <td>NaN</td>\n",
       "      <td>NaN</td>\n",
       "      <td>9.0</td>\n",
       "      <td>5.15</td>\n",
       "      <td>NaN</td>\n",
       "    </tr>\n",
       "    <tr>\n",
       "      <th>1</th>\n",
       "      <td>Агапов Михаил</td>\n",
       "      <td>15</td>\n",
       "      <td>NaN</td>\n",
       "      <td>15.0</td>\n",
       "      <td>2.0</td>\n",
       "      <td>55</td>\n",
       "      <td>6.0</td>\n",
       "      <td>4.0</td>\n",
       "      <td>согласен с оценкой</td>\n",
       "      <td>4.0</td>\n",
       "      <td>NaN</td>\n",
       "      <td>NaN</td>\n",
       "      <td>NaN</td>\n",
       "      <td>NaN</td>\n",
       "      <td>NaN</td>\n",
       "      <td>1.20</td>\n",
       "      <td>NaN</td>\n",
       "    </tr>\n",
       "    <tr>\n",
       "      <th>2</th>\n",
       "      <td>Алиев Элвин</td>\n",
       "      <td>41</td>\n",
       "      <td>NaN</td>\n",
       "      <td>41.0</td>\n",
       "      <td>5.0</td>\n",
       "      <td>55</td>\n",
       "      <td>6.0</td>\n",
       "      <td>6.0</td>\n",
       "      <td>согласен с оценкой</td>\n",
       "      <td>6.0</td>\n",
       "      <td>32</td>\n",
       "      <td>5</td>\n",
       "      <td>NaN</td>\n",
       "      <td>NaN</td>\n",
       "      <td>7.0</td>\n",
       "      <td>4.45</td>\n",
       "      <td>NaN</td>\n",
       "    </tr>\n",
       "    <tr>\n",
       "      <th>3</th>\n",
       "      <td>Аминева Алина</td>\n",
       "      <td>50</td>\n",
       "      <td>10.0</td>\n",
       "      <td>60.0</td>\n",
       "      <td>7.0</td>\n",
       "      <td>57</td>\n",
       "      <td>6.0</td>\n",
       "      <td>7.0</td>\n",
       "      <td>согласна с оценкой</td>\n",
       "      <td>7.0</td>\n",
       "      <td>17</td>\n",
       "      <td>2</td>\n",
       "      <td>NaN</td>\n",
       "      <td>NaN</td>\n",
       "      <td>9.0</td>\n",
       "      <td>4.40</td>\n",
       "      <td>NaN</td>\n",
       "    </tr>\n",
       "    <tr>\n",
       "      <th>4</th>\n",
       "      <td>Антонова Арина</td>\n",
       "      <td>48</td>\n",
       "      <td>NaN</td>\n",
       "      <td>48.0</td>\n",
       "      <td>5.0</td>\n",
       "      <td>75</td>\n",
       "      <td>8.0</td>\n",
       "      <td>7.0</td>\n",
       "      <td>согласна с оценкой</td>\n",
       "      <td>7.0</td>\n",
       "      <td>27</td>\n",
       "      <td>4</td>\n",
       "      <td>NaN</td>\n",
       "      <td>NaN</td>\n",
       "      <td>10.0</td>\n",
       "      <td>5.10</td>\n",
       "      <td>NaN</td>\n",
       "    </tr>\n",
       "  </tbody>\n",
       "</table>\n",
       "</div>"
      ],
      "text/plain": [
       "       Unnamed: 0  кр1  доп.балл  кр1 итог  кр1 в 10-балльной к/р.2  \\\n",
       "0   Абаджян Наира  осв       NaN       NaN                0.0    64   \n",
       "1   Агапов Михаил   15       NaN      15.0                2.0    55   \n",
       "2     Алиев Элвин   41       NaN      41.0                5.0    55   \n",
       "3   Аминева Алина   50      10.0      60.0                7.0    57   \n",
       "4  Антонова Арина   48       NaN      48.0                5.0    75   \n",
       "\n",
       "   к.р. в 10-балльной  итог             экзамен  итог-итог кр апрель  \\\n",
       "0                 7.0   7.0  согласна с оценкой        7.0        28   \n",
       "1                 6.0   4.0  согласен с оценкой        4.0       NaN   \n",
       "2                 6.0   6.0  согласен с оценкой        6.0        32   \n",
       "3                 6.0   7.0  согласна с оценкой        7.0        17   \n",
       "4                 8.0   7.0  согласна с оценкой        7.0        27   \n",
       "\n",
       "  кр 3 в 10-балльной  кр май  кр4 в 10-балльной  доклады  ИТОГ  экзамен.1  \n",
       "0                  5     NaN                NaN      9.0  5.15        NaN  \n",
       "1                NaN     NaN                NaN      NaN  1.20        NaN  \n",
       "2                  5     NaN                NaN      7.0  4.45        NaN  \n",
       "3                  2     NaN                NaN      9.0  4.40        NaN  \n",
       "4                  4     NaN                NaN     10.0  5.10        NaN  "
      ]
     },
     "execution_count": 2,
     "metadata": {},
     "output_type": "execute_result"
    }
   ],
   "source": [
    "data = pd.read_excel('2022-23.xlsx' , sheet_name = 0)\n",
    "data.head()"
   ]
  },
  {
   "cell_type": "markdown",
   "id": "8db958a1",
   "metadata": {},
   "source": [
    "## Выведем столбец с ФИО студента и оценкой за 3 контрольную в 10 бальной системе"
   ]
  },
  {
   "cell_type": "code",
   "execution_count": 3,
   "id": "6833cc00",
   "metadata": {},
   "outputs": [
    {
     "data": {
      "text/html": [
       "<div>\n",
       "<style scoped>\n",
       "    .dataframe tbody tr th:only-of-type {\n",
       "        vertical-align: middle;\n",
       "    }\n",
       "\n",
       "    .dataframe tbody tr th {\n",
       "        vertical-align: top;\n",
       "    }\n",
       "\n",
       "    .dataframe thead th {\n",
       "        text-align: right;\n",
       "    }\n",
       "</style>\n",
       "<table border=\"1\" class=\"dataframe\">\n",
       "  <thead>\n",
       "    <tr style=\"text-align: right;\">\n",
       "      <th></th>\n",
       "      <th>Unnamed: 0</th>\n",
       "      <th>кр 3 в 10-балльной</th>\n",
       "    </tr>\n",
       "  </thead>\n",
       "  <tbody>\n",
       "    <tr>\n",
       "      <th>0</th>\n",
       "      <td>Абаджян Наира</td>\n",
       "      <td>5</td>\n",
       "    </tr>\n",
       "    <tr>\n",
       "      <th>2</th>\n",
       "      <td>Алиев Элвин</td>\n",
       "      <td>5</td>\n",
       "    </tr>\n",
       "    <tr>\n",
       "      <th>3</th>\n",
       "      <td>Аминева Алина</td>\n",
       "      <td>2</td>\n",
       "    </tr>\n",
       "    <tr>\n",
       "      <th>4</th>\n",
       "      <td>Антонова Арина</td>\n",
       "      <td>4</td>\n",
       "    </tr>\n",
       "    <tr>\n",
       "      <th>6</th>\n",
       "      <td>Баран Ева</td>\n",
       "      <td>7</td>\n",
       "    </tr>\n",
       "  </tbody>\n",
       "</table>\n",
       "</div>"
      ],
      "text/plain": [
       "       Unnamed: 0 кр 3 в 10-балльной\n",
       "0   Абаджян Наира                  5\n",
       "2     Алиев Элвин                  5\n",
       "3   Аминева Алина                  2\n",
       "4  Антонова Арина                  4\n",
       "6       Баран Ева                  7"
      ]
     },
     "execution_count": 3,
     "metadata": {},
     "output_type": "execute_result"
    }
   ],
   "source": [
    "data_cut = data.iloc[:, [0,11]].dropna()\n",
    "data_cut.head()"
   ]
  },
  {
   "cell_type": "code",
   "execution_count": 4,
   "id": "6443a769",
   "metadata": {},
   "outputs": [
    {
     "data": {
      "text/html": [
       "<div>\n",
       "<style scoped>\n",
       "    .dataframe tbody tr th:only-of-type {\n",
       "        vertical-align: middle;\n",
       "    }\n",
       "\n",
       "    .dataframe tbody tr th {\n",
       "        vertical-align: top;\n",
       "    }\n",
       "\n",
       "    .dataframe thead th {\n",
       "        text-align: right;\n",
       "    }\n",
       "</style>\n",
       "<table border=\"1\" class=\"dataframe\">\n",
       "  <thead>\n",
       "    <tr style=\"text-align: right;\">\n",
       "      <th></th>\n",
       "      <th>ФИО Студента</th>\n",
       "      <th>кр 3 в 10-балльной</th>\n",
       "    </tr>\n",
       "  </thead>\n",
       "  <tbody>\n",
       "    <tr>\n",
       "      <th>0</th>\n",
       "      <td>Абаджян Наира</td>\n",
       "      <td>5</td>\n",
       "    </tr>\n",
       "    <tr>\n",
       "      <th>2</th>\n",
       "      <td>Алиев Элвин</td>\n",
       "      <td>5</td>\n",
       "    </tr>\n",
       "    <tr>\n",
       "      <th>3</th>\n",
       "      <td>Аминева Алина</td>\n",
       "      <td>2</td>\n",
       "    </tr>\n",
       "    <tr>\n",
       "      <th>4</th>\n",
       "      <td>Антонова Арина</td>\n",
       "      <td>4</td>\n",
       "    </tr>\n",
       "    <tr>\n",
       "      <th>6</th>\n",
       "      <td>Баран Ева</td>\n",
       "      <td>7</td>\n",
       "    </tr>\n",
       "  </tbody>\n",
       "</table>\n",
       "</div>"
      ],
      "text/plain": [
       "     ФИО Студента кр 3 в 10-балльной\n",
       "0   Абаджян Наира                  5\n",
       "2     Алиев Элвин                  5\n",
       "3   Аминева Алина                  2\n",
       "4  Антонова Арина                  4\n",
       "6       Баран Ева                  7"
      ]
     },
     "execution_count": 4,
     "metadata": {},
     "output_type": "execute_result"
    }
   ],
   "source": [
    "data_cut.columns = ['ФИО Студента','кр 3 в 10-балльной']\n",
    "data_cut.head()"
   ]
  },
  {
   "cell_type": "markdown",
   "id": "f76a44b5",
   "metadata": {},
   "source": [
    "## Уберем из данных тех, кто был освобожден по болезни"
   ]
  },
  {
   "cell_type": "code",
   "execution_count": 5,
   "id": "c3c247ad",
   "metadata": {},
   "outputs": [
    {
     "data": {
      "text/html": [
       "<div>\n",
       "<style scoped>\n",
       "    .dataframe tbody tr th:only-of-type {\n",
       "        vertical-align: middle;\n",
       "    }\n",
       "\n",
       "    .dataframe tbody tr th {\n",
       "        vertical-align: top;\n",
       "    }\n",
       "\n",
       "    .dataframe thead th {\n",
       "        text-align: right;\n",
       "    }\n",
       "</style>\n",
       "<table border=\"1\" class=\"dataframe\">\n",
       "  <thead>\n",
       "    <tr style=\"text-align: right;\">\n",
       "      <th></th>\n",
       "      <th>ФИО Студента</th>\n",
       "      <th>кр 3 в 10-балльной</th>\n",
       "    </tr>\n",
       "  </thead>\n",
       "  <tbody>\n",
       "    <tr>\n",
       "      <th>0</th>\n",
       "      <td>Абаджян Наира</td>\n",
       "      <td>5</td>\n",
       "    </tr>\n",
       "    <tr>\n",
       "      <th>2</th>\n",
       "      <td>Алиев Элвин</td>\n",
       "      <td>5</td>\n",
       "    </tr>\n",
       "    <tr>\n",
       "      <th>3</th>\n",
       "      <td>Аминева Алина</td>\n",
       "      <td>2</td>\n",
       "    </tr>\n",
       "    <tr>\n",
       "      <th>4</th>\n",
       "      <td>Антонова Арина</td>\n",
       "      <td>4</td>\n",
       "    </tr>\n",
       "    <tr>\n",
       "      <th>6</th>\n",
       "      <td>Баран Ева</td>\n",
       "      <td>7</td>\n",
       "    </tr>\n",
       "  </tbody>\n",
       "</table>\n",
       "</div>"
      ],
      "text/plain": [
       "     ФИО Студента кр 3 в 10-балльной\n",
       "0   Абаджян Наира                  5\n",
       "2     Алиев Элвин                  5\n",
       "3   Аминева Алина                  2\n",
       "4  Антонова Арина                  4\n",
       "6       Баран Ева                  7"
      ]
     },
     "execution_count": 5,
     "metadata": {},
     "output_type": "execute_result"
    }
   ],
   "source": [
    "data_wth_sick = data_cut.loc[data_cut['кр 3 в 10-балльной'] != 'осв']\n",
    "data_wth_sick.head()"
   ]
  },
  {
   "cell_type": "markdown",
   "id": "96f9a2fa",
   "metadata": {},
   "source": [
    "## Сгруппируем оценки и посчитаем количество студентов с этими отметками"
   ]
  },
  {
   "cell_type": "code",
   "execution_count": 6,
   "id": "cdf7e907",
   "metadata": {},
   "outputs": [
    {
     "data": {
      "text/html": [
       "<div>\n",
       "<style scoped>\n",
       "    .dataframe tbody tr th:only-of-type {\n",
       "        vertical-align: middle;\n",
       "    }\n",
       "\n",
       "    .dataframe tbody tr th {\n",
       "        vertical-align: top;\n",
       "    }\n",
       "\n",
       "    .dataframe thead th {\n",
       "        text-align: right;\n",
       "    }\n",
       "</style>\n",
       "<table border=\"1\" class=\"dataframe\">\n",
       "  <thead>\n",
       "    <tr style=\"text-align: right;\">\n",
       "      <th></th>\n",
       "      <th>кр 3 в 10-балльной</th>\n",
       "      <th>Количество студентов</th>\n",
       "    </tr>\n",
       "  </thead>\n",
       "  <tbody>\n",
       "    <tr>\n",
       "      <th>0</th>\n",
       "      <td>1</td>\n",
       "      <td>3</td>\n",
       "    </tr>\n",
       "    <tr>\n",
       "      <th>1</th>\n",
       "      <td>2</td>\n",
       "      <td>1</td>\n",
       "    </tr>\n",
       "    <tr>\n",
       "      <th>2</th>\n",
       "      <td>3</td>\n",
       "      <td>8</td>\n",
       "    </tr>\n",
       "    <tr>\n",
       "      <th>3</th>\n",
       "      <td>4</td>\n",
       "      <td>2</td>\n",
       "    </tr>\n",
       "    <tr>\n",
       "      <th>4</th>\n",
       "      <td>5</td>\n",
       "      <td>8</td>\n",
       "    </tr>\n",
       "    <tr>\n",
       "      <th>5</th>\n",
       "      <td>6</td>\n",
       "      <td>10</td>\n",
       "    </tr>\n",
       "    <tr>\n",
       "      <th>6</th>\n",
       "      <td>7</td>\n",
       "      <td>9</td>\n",
       "    </tr>\n",
       "    <tr>\n",
       "      <th>7</th>\n",
       "      <td>8</td>\n",
       "      <td>5</td>\n",
       "    </tr>\n",
       "    <tr>\n",
       "      <th>8</th>\n",
       "      <td>9</td>\n",
       "      <td>4</td>\n",
       "    </tr>\n",
       "    <tr>\n",
       "      <th>9</th>\n",
       "      <td>10</td>\n",
       "      <td>2</td>\n",
       "    </tr>\n",
       "  </tbody>\n",
       "</table>\n",
       "</div>"
      ],
      "text/plain": [
       "   кр 3 в 10-балльной  Количество студентов\n",
       "0                   1                     3\n",
       "1                   2                     1\n",
       "2                   3                     8\n",
       "3                   4                     2\n",
       "4                   5                     8\n",
       "5                   6                    10\n",
       "6                   7                     9\n",
       "7                   8                     5\n",
       "8                   9                     4\n",
       "9                  10                     2"
      ]
     },
     "execution_count": 6,
     "metadata": {},
     "output_type": "execute_result"
    }
   ],
   "source": [
    "data_for_viz= data_wth_sick.groupby('кр 3 в 10-балльной').count().reset_index()\n",
    "data_for_viz.columns = ['кр 3 в 10-балльной' , 'Количество студентов']\n",
    "data_for_viz"
   ]
  },
  {
   "cell_type": "markdown",
   "id": "53a5bfe4",
   "metadata": {},
   "source": [
    "## Визуализируем данные в координатах (\"кр 3 в 10-бальной\" , \"Количество студентов\") чтобы посмотреть на распределение оценок"
   ]
  },
  {
   "cell_type": "code",
   "execution_count": 7,
   "id": "db2e68f3",
   "metadata": {},
   "outputs": [
    {
     "data": {
      "image/png": "[encoded data removed]",
      "text/plain": [
       "<Figure size 640x480 with 1 Axes>"
      ]
     },
     "metadata": {},
     "output_type": "display_data"
    }
   ],
   "source": [
    "data_for_viz.plot(x = 'кр 3 в 10-балльной' , y = 'Количество студентов');\n",
    "plt.ylabel('Количество Студентов');"
   ]
  },
  {
   "cell_type": "markdown",
   "id": "c2f75601",
   "metadata": {},
   "source": [
    "## Для наглядности построим гистограмму"
   ]
  },
  {
   "cell_type": "code",
   "execution_count": 8,
   "id": "9aa1e558",
   "metadata": {},
   "outputs": [
    {
     "data": {
      "image/png": "[encoded data removed]",
      "text/plain": [
       "<Figure size 640x480 with 1 Axes>"
      ]
     },
     "metadata": {},
     "output_type": "display_data"
    }
   ],
   "source": [
    "plt.bar(data_for_viz['кр 3 в 10-балльной'], data_for_viz['Количество студентов'])\n",
    "plt.xlabel('кр 3 в 10-балльной')\n",
    "plt.ylabel('Количество студентов')\n",
    "plt.title('Гистограмма распределения оценок')\n",
    "plt.show()"
   ]
  }
 ],
 "metadata": {
  "kernelspec": {
   "display_name": "Python 3 (ipykernel)",
   "language": "python",
   "name": "python3"
  },
  "language_info": {
   "codemirror_mode": {
    "name": "ipython",
    "version": 3
   },
   "file_extension": ".py",
   "mimetype": "text/x-python",
   "name": "python",
   "nbconvert_exporter": "python",
   "pygments_lexer": "ipython3",
   "version": "3.9.13"
  }
 },
 "nbformat": 4,
 "nbformat_minor": 5
}
